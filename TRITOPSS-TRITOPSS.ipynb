{
 "cells": [
  {
   "cell_type": "code",
   "execution_count": 130,
   "id": "28ed4653",
   "metadata": {
    "tags": []
   },
   "outputs": [
    {
     "name": "stderr",
     "output_type": "stream",
     "text": [
      "/tmp/ipykernel_88655/2655539333.py:18: RuntimeWarning: More than 20 figures have been opened. Figures created through the pyplot interface (`matplotlib.pyplot.figure`) are retained until explicitly closed and may consume too much memory. (To control this warning, see the rcParam `figure.max_open_warning`). Consider using `matplotlib.pyplot.close()`.\n",
      "  fig, (ax1, ax2) = plt.subplots(2, 1)\n"
     ]
    },
    {
     "data": {
      "text/latex": [
       "$\\displaystyle \\left[\\begin{matrix}0 & - 1.0 i m_{3} & - 1.0 i m_{0} & 0\\\\1.0 i m_{3} & 0 & 0 & 1.0 i m_{0}\\\\1.0 i m_{0} & 0 & 0 & - 1.0 i m_{3}\\\\0 & - 1.0 i m_{0} & 1.0 i m_{3} & 0\\end{matrix}\\right]$"
      ],
      "text/plain": [
       "Matrix([\n",
       "[        0, -1.0*I*m_3, -1.0*I*m_0,          0],\n",
       "[1.0*I*m_3,          0,          0,  1.0*I*m_0],\n",
       "[1.0*I*m_0,          0,          0, -1.0*I*m_3],\n",
       "[        0, -1.0*I*m_0,  1.0*I*m_3,          0]])"
      ]
     },
     "execution_count": 130,
     "metadata": {},
     "output_type": "execute_result"
    }
   ],
   "source": [
    "import numpy as np\n",
    "import matplotlib.pyplot as plt\n",
    "import sympy as sp\n",
    "from sympy.physics.quantum import TensorProduct\n",
    "\n",
    "def get_phi(y):\n",
    "    return 4 * np.arctan(np.exp(y))\n",
    "\n",
    "def get_mass(y):\n",
    "    phi = get_phi(y)\n",
    "    return np.cos(phi/2)\n",
    "\n",
    "def get_m_prime(y):\n",
    "    phi = get_phi(y)\n",
    "    return np.sin(phi)\n",
    "\n",
    "y = np.linspace(-10, 10, 1000)\n",
    "fig, (ax1, ax2) = plt.subplots(2, 1)\n",
    "ax1.plot(y, get_phi(y),\n",
    "        label=r\"$\\phi(y)$\")\n",
    "ax2.plot(y, get_m_prime(y), label=r\"$m'(y)$\")\n",
    "ax2.plot(y, get_mass(y), label=r\"$m(y)$\")\n",
    "\n",
    "ax1.set_xlabel(r\"$y$\")\n",
    "ax2.set_xlabel(r\"$y$\")\n",
    "ax1.set_ylabel(r\"$\\phi(y)$\")\n",
    "ax2.set_ylabel(r\"$m'(y)$\")\n",
    "plt.tight_layout()\n",
    "plt.legend()\n"
   ]
  },
  {
   "cell_type": "code",
   "execution_count": 139,
   "id": "8519f7ab",
   "metadata": {},
   "outputs": [
    {
     "data": {
      "text/latex": [
       "$\\displaystyle \\left[\\begin{matrix}0 & - 1.0 i m_{3} & - 1.0 i m_{0} - m_{1} & - 1.0 i m_{2}\\\\1.0 i m_{3} & 0 & 1.0 i m_{2} & 1.0 i m_{0} + m_{1}\\\\1.0 i m_{0} - m_{1} & 1.0 i m_{2} & 0 & - 1.0 i m_{3}\\\\- 1.0 i m_{2} & - 1.0 i m_{0} + m_{1} & 1.0 i m_{3} & 0\\end{matrix}\\right]$"
      ],
      "text/plain": [
       "Matrix([\n",
       "[              0,       -1.0*I*m_3, -1.0*I*m_0 - m_1,      -1.0*I*m_2],\n",
       "[      1.0*I*m_3,                0,        1.0*I*m_2, 1.0*I*m_0 + m_1],\n",
       "[1.0*I*m_0 - m_1,        1.0*I*m_2,                0,      -1.0*I*m_3],\n",
       "[     -1.0*I*m_2, -1.0*I*m_0 + m_1,        1.0*I*m_3,               0]])"
      ]
     },
     "execution_count": 139,
     "metadata": {},
     "output_type": "execute_result"
    }
   ],
   "source": [
    "m_0, m_1, m_2, m_3, m_4, Lambda = sp.symbols((\"m_0\", \"m_1\", \"m_2\",\n",
    "                                             \"m_3\", \"m_4\",\n",
    "                                             \"lambda\"))\n",
    "\n",
    "tau_x = sp.Matrix([[0, 1],\n",
    "                   [1, 0]])\n",
    "tau_0 = sp.Matrix([[1, 0],\n",
    "                   [0, 1]])\n",
    "tau_z = sp.Matrix([[1, 0],\n",
    "                   [0, -1]])\n",
    "tau_y = sp.Matrix([[0, -1j],\n",
    "                   [1j, 0]])\n",
    "sigma_0 = sp.Matrix([[1, 0],\n",
    "                     [0, 1]])\n",
    "sigma_z = sp.Matrix([[1, 0],\n",
    "                     [0, -1]])\n",
    "sigma_x = sp.Matrix([[0, 1],\n",
    "                     [1, 0]])\n",
    "sigma_y = sp.Matrix([[0, -1j],\n",
    "                     [1j, 0]])\n",
    "#m_1 = 0\n",
    "#m_2 = 0\n",
    "#m_3 = 0\n",
    "M = m_0*TensorProduct(tau_y, sigma_z) - m_1*TensorProduct(tau_x, sigma_z) + sp.I*m_2*TensorProduct(tau_y, sigma_y) + m_3*TensorProduct(tau_0, sigma_y)\n",
    "M"
   ]
  },
  {
   "cell_type": "code",
   "execution_count": 140,
   "id": "aea0032e",
   "metadata": {
    "tags": []
   },
   "outputs": [
    {
     "data": {
      "text/latex": [
       "$\\displaystyle 1.0 \\lambda^{4} - 2.0 \\lambda^{2} m_{0}^{2} - 2.0 \\lambda^{2} m_{1}^{2} + 2.0 \\lambda^{2} m_{2}^{2} - 2.0 \\lambda^{2} m_{3}^{2} + 1.0 m_{0}^{4} + 2.0 m_{0}^{2} m_{1}^{2} - 2.0 m_{0}^{2} m_{2}^{2} + 2.0 m_{0}^{2} m_{3}^{2} + 1.0 m_{1}^{4} + 2.0 m_{1}^{2} m_{2}^{2} + 2.0 m_{1}^{2} m_{3}^{2} + 1.0 m_{2}^{4} + 2.0 m_{2}^{2} m_{3}^{2} + 1.0 m_{3}^{4}$"
      ],
      "text/plain": [
       "1.0*lambda**4 - 2.0*lambda**2*m_0**2 - 2.0*lambda**2*m_1**2 + 2.0*lambda**2*m_2**2 - 2.0*lambda**2*m_3**2 + 1.0*m_0**4 + 2.0*m_0**2*m_1**2 - 2.0*m_0**2*m_2**2 + 2.0*m_0**2*m_3**2 + 1.0*m_1**4 + 2.0*m_1**2*m_2**2 + 2.0*m_1**2*m_3**2 + 1.0*m_2**4 + 2.0*m_2**2*m_3**2 + 1.0*m_3**4"
      ]
     },
     "execution_count": 140,
     "metadata": {},
     "output_type": "execute_result"
    }
   ],
   "source": [
    "determinant = (M-Lambda*sp.eye(4)).det()\n",
    "determinant"
   ]
  },
  {
   "cell_type": "code",
   "execution_count": 157,
   "id": "1dd1947c",
   "metadata": {
    "tags": []
   },
   "outputs": [
    {
     "data": {
      "text/latex": [
       "$\\displaystyle - 1.4142135623731 \\sqrt{0.5 m_{0}^{2} + 0.5 m_{1}^{2} - 0.5 m_{2}^{2} - m_{2} \\left(- m_{1}^{2} - m_{3}^{2}\\right)^{0.5} + 0.5 m_{3}^{2}}$"
      ],
      "text/plain": [
       "-1.4142135623731*sqrt(0.5*m_0**2 + 0.5*m_1**2 - 0.5*m_2**2 - m_2*(-m_1**2 - m_3**2)**0.5 + 0.5*m_3**2)"
      ]
     },
     "metadata": {},
     "output_type": "display_data"
    },
    {
     "data": {
      "text/latex": [
       "$\\displaystyle 1.4142135623731 \\sqrt{0.5 m_{0}^{2} + 0.5 m_{1}^{2} - 0.5 m_{2}^{2} - m_{2} \\left(- m_{1}^{2} - m_{3}^{2}\\right)^{0.5} + 0.5 m_{3}^{2}}$"
      ],
      "text/plain": [
       "1.4142135623731*sqrt(0.5*m_0**2 + 0.5*m_1**2 - 0.5*m_2**2 - m_2*(-m_1**2 - m_3**2)**0.5 + 0.5*m_3**2)"
      ]
     },
     "metadata": {},
     "output_type": "display_data"
    },
    {
     "data": {
      "text/latex": [
       "$\\displaystyle - 1.4142135623731 \\sqrt{0.5 m_{0}^{2} + 0.5 m_{1}^{2} - 0.5 m_{2}^{2} + m_{2} \\left(- m_{1}^{2} - m_{3}^{2}\\right)^{0.5} + 0.5 m_{3}^{2}}$"
      ],
      "text/plain": [
       "-1.4142135623731*sqrt(0.5*m_0**2 + 0.5*m_1**2 - 0.5*m_2**2 + m_2*(-m_1**2 - m_3**2)**0.5 + 0.5*m_3**2)"
      ]
     },
     "metadata": {},
     "output_type": "display_data"
    },
    {
     "data": {
      "text/latex": [
       "$\\displaystyle 1.4142135623731 \\sqrt{0.5 m_{0}^{2} + 0.5 m_{1}^{2} - 0.5 m_{2}^{2} + m_{2} \\left(- m_{1}^{2} - m_{3}^{2}\\right)^{0.5} + 0.5 m_{3}^{2}}$"
      ],
      "text/plain": [
       "1.4142135623731*sqrt(0.5*m_0**2 + 0.5*m_1**2 - 0.5*m_2**2 + m_2*(-m_1**2 - m_3**2)**0.5 + 0.5*m_3**2)"
      ]
     },
     "metadata": {},
     "output_type": "display_data"
    }
   ],
   "source": [
    "eigenvalues = sp.solve(determinant, Lambda)\n",
    "display(eigenvalues[0])\n",
    "display(eigenvalues[1])\n",
    "display(eigenvalues[2])\n",
    "display(eigenvalues[3])\n"
   ]
  },
  {
   "cell_type": "code",
   "execution_count": 142,
   "id": "7bc1b3c7",
   "metadata": {},
   "outputs": [
    {
     "data": {
      "text/plain": [
       "{-1.4142135623731*sqrt(0.5*m_0**2 + 0.5*m_1**2 - 0.5*m_2**2 - m_2*sqrt(-m_1**2 - m_3**2) + 0.5*m_3**2): 1,\n",
       " 1.4142135623731*sqrt(0.5*m_0**2 + 0.5*m_1**2 - 0.5*m_2**2 - m_2*sqrt(-m_1**2 - m_3**2) + 0.5*m_3**2): 1,\n",
       " -1.4142135623731*sqrt(0.5*m_0**2 + 0.5*m_1**2 - 0.5*m_2**2 + m_2*sqrt(-m_1**2 - m_3**2) + 0.5*m_3**2): 1,\n",
       " 1.4142135623731*sqrt(0.5*m_0**2 + 0.5*m_1**2 - 0.5*m_2**2 + m_2*sqrt(-m_1**2 - m_3**2) + 0.5*m_3**2): 1}"
      ]
     },
     "execution_count": 142,
     "metadata": {},
     "output_type": "execute_result"
    }
   ],
   "source": [
    "M.eigenvals()"
   ]
  },
  {
   "cell_type": "code",
   "execution_count": 143,
   "id": "6efbdc62",
   "metadata": {},
   "outputs": [
    {
     "data": {
      "text/latex": [
       "$\\displaystyle - 1.4142135623731 \\sqrt{0.5 m_{0}^{2} + 0.5 m_{1}^{2} - 0.5 m_{2}^{2} - m_{2} \\left(- m_{1}^{2} - m_{3}^{2}\\right)^{0.5} + 0.5 m_{3}^{2}}$"
      ],
      "text/plain": [
       "-1.4142135623731*sqrt(0.5*m_0**2 + 0.5*m_1**2 - 0.5*m_2**2 - m_2*(-m_1**2 - m_3**2)**0.5 + 0.5*m_3**2)"
      ]
     },
     "execution_count": 143,
     "metadata": {},
     "output_type": "execute_result"
    }
   ],
   "source": [
    "eigenvalues[0]"
   ]
  },
  {
   "cell_type": "code",
   "execution_count": 6,
   "id": "d1afe02c",
   "metadata": {},
   "outputs": [
    {
     "data": {
      "text/latex": [
       "$\\displaystyle \\left[\\begin{matrix}- 2.0 m' & 0 & 0 & 0\\\\0 & 2.0 m' & 0 & 0\\\\0 & 0 & - 2.0 m' & 0\\\\0 & 0 & 0 & 2.0 m'\\end{matrix}\\right]$"
      ],
      "text/plain": [
       "Matrix([\n",
       "[-2.0*m',      0,       0,      0],\n",
       "[      0, 2.0*m',       0,      0],\n",
       "[      0,      0, -2.0*m',      0],\n",
       "[      0,      0,       0, 2.0*m']])"
      ]
     },
     "execution_count": 6,
     "metadata": {},
     "output_type": "execute_result"
    }
   ],
   "source": [
    "T = 1j*TensorProduct(tau_0, sigma_y)\n",
    "M@T-T@M"
   ]
  },
  {
   "cell_type": "code",
   "execution_count": 7,
   "id": "84ced786",
   "metadata": {},
   "outputs": [
    {
     "data": {
      "text/latex": [
       "$\\displaystyle \\left[\\begin{matrix}- 1.0 m' & 0 & 0 & 1.0 m\\\\0 & 1.0 m' & - 1.0 m & 0\\\\0 & 1.0 m & - 1.0 m' & 0\\\\- 1.0 m & 0 & 0 & 1.0 m'\\end{matrix}\\right]$"
      ],
      "text/plain": [
       "Matrix([\n",
       "[-1.0*m',      0,       0,  1.0*m],\n",
       "[      0, 1.0*m',  -1.0*m,      0],\n",
       "[      0,  1.0*m, -1.0*m',      0],\n",
       "[ -1.0*m,      0,       0, 1.0*m']])"
      ]
     },
     "execution_count": 7,
     "metadata": {},
     "output_type": "execute_result"
    }
   ],
   "source": [
    "M@T"
   ]
  },
  {
   "cell_type": "code",
   "execution_count": 8,
   "id": "3b8f43a1",
   "metadata": {},
   "outputs": [
    {
     "data": {
      "text/latex": [
       "$\\displaystyle \\left[\\begin{matrix}1.0 m' & 0 & 0 & 1.0 m\\\\0 & - 1.0 m' & - 1.0 m & 0\\\\0 & 1.0 m & 1.0 m' & 0\\\\- 1.0 m & 0 & 0 & - 1.0 m'\\end{matrix}\\right]$"
      ],
      "text/plain": [
       "Matrix([\n",
       "[1.0*m',       0,      0,   1.0*m],\n",
       "[     0, -1.0*m', -1.0*m,       0],\n",
       "[     0,   1.0*m, 1.0*m',       0],\n",
       "[-1.0*m,       0,      0, -1.0*m']])"
      ]
     },
     "execution_count": 8,
     "metadata": {},
     "output_type": "execute_result"
    }
   ],
   "source": [
    "T@M"
   ]
  },
  {
   "cell_type": "code",
   "execution_count": null,
   "id": "f2639b4f",
   "metadata": {},
   "outputs": [],
   "source": []
  }
 ],
 "metadata": {
  "kernelspec": {
   "display_name": "Python 3 (Spyder)",
   "language": "python3",
   "name": "python3"
  },
  "language_info": {
   "codemirror_mode": {
    "name": "ipython",
    "version": 3
   },
   "file_extension": ".py",
   "mimetype": "text/x-python",
   "name": "python",
   "nbconvert_exporter": "python",
   "pygments_lexer": "ipython3",
   "version": "3.11.7"
  }
 },
 "nbformat": 4,
 "nbformat_minor": 5
}
