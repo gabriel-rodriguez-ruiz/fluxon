{
 "cells": [
  {
   "cell_type": "code",
   "execution_count": 1,
   "id": "b9eeabf7",
   "metadata": {
    "tags": []
   },
   "outputs": [
    {
     "data": {
      "text/plain": [
       "<matplotlib.legend.Legend at 0x776963649450>"
      ]
     },
     "execution_count": 1,
     "metadata": {},
     "output_type": "execute_result"
    }
   ],
   "source": [
    "import numpy as np\n",
    "import matplotlib.pyplot as plt\n",
    "import sympy as sp\n",
    "from sympy.physics.quantum import TensorProduct\n",
    "\n",
    "def get_phi(y):\n",
    "    return 4 * np.arctan(np.exp(y))\n",
    "\n",
    "def get_mass(y):\n",
    "    phi = get_phi(y)\n",
    "    return np.cos(phi/2)\n",
    "\n",
    "def get_m_prime(y):\n",
    "    phi = get_phi(y)\n",
    "    return np.sin(phi)\n",
    "\n",
    "y = np.linspace(-10, 10, 1000)\n",
    "fig, (ax1, ax2) = plt.subplots(2, 1)\n",
    "ax1.plot(y, get_phi(y),\n",
    "        label=r\"$\\phi(y)$\")\n",
    "ax2.plot(y, get_m_prime(y), label=r\"$m'(y)$\")\n",
    "ax2.plot(y, get_mass(y), label=r\"$m(y)$\")\n",
    "\n",
    "ax1.set_xlabel(r\"$y$\")\n",
    "ax2.set_xlabel(r\"$y$\")\n",
    "ax1.set_ylabel(r\"$\\phi(y)$\")\n",
    "ax2.set_ylabel(r\"$m'(y)$\")\n",
    "plt.tight_layout()\n",
    "plt.legend()\n"
   ]
  },
  {
   "cell_type": "code",
   "execution_count": 55,
   "id": "b1ea10da",
   "metadata": {},
   "outputs": [
    {
     "data": {
      "text/latex": [
       "$\\displaystyle \\left[\\begin{matrix}0 & m_{3} & - 1.0 i m_{0} - m_{1} - 1.0 i m_{2} & 0\\\\m_{3} & 0 & 0 & 1.0 i m_{0} + m_{1} - 1.0 i m_{2}\\\\1.0 i m_{0} - m_{1} + 1.0 i m_{2} & 0 & 0 & m_{3}\\\\0 & - 1.0 i m_{0} + m_{1} + 1.0 i m_{2} & m_{3} & 0\\end{matrix}\\right]$"
      ],
      "text/plain": [
       "Matrix([\n",
       "[                          0,                          m_3, -1.0*I*m_0 - m_1 - 1.0*I*m_2,                           0],\n",
       "[                        m_3,                            0,                            0, 1.0*I*m_0 + m_1 - 1.0*I*m_2],\n",
       "[1.0*I*m_0 - m_1 + 1.0*I*m_2,                            0,                            0,                         m_3],\n",
       "[                          0, -1.0*I*m_0 + m_1 + 1.0*I*m_2,                          m_3,                           0]])"
      ]
     },
     "execution_count": 55,
     "metadata": {},
     "output_type": "execute_result"
    }
   ],
   "source": [
    "m_0, m_1, m_2, m_3, m_4 = sp.symbols((\"m_0\", \"m_1\", \"m_2\",\n",
    "                                             \"m_3\", \"m_4\"), positive=True)\n",
    "Lambda = sp.Symbol(\"lambda\")\n",
    "tau_x = sp.Matrix([[0, 1],\n",
    "                   [1, 0]])\n",
    "tau_0 = sp.Matrix([[1, 0],\n",
    "                   [0, 1]])\n",
    "tau_z = sp.Matrix([[1, 0],\n",
    "                   [0, -1]])\n",
    "tau_y = sp.Matrix([[0, -1j],\n",
    "                   [1j, 0]])\n",
    "sigma_0 = sp.Matrix([[1, 0],\n",
    "                     [0, 1]])\n",
    "sigma_z = sp.Matrix([[1, 0],\n",
    "                     [0, -1]])\n",
    "sigma_x = sp.Matrix([[0, 1],\n",
    "                     [1, 0]])\n",
    "sigma_y = sp.Matrix([[0, -1j],\n",
    "                     [1j, 0]])\n",
    "#m_1 = 0\n",
    "#m_2 = 0\n",
    "#m_3 = 0\n",
    "M = m_0*TensorProduct(tau_y, sigma_z) - m_1*TensorProduct(tau_x, sigma_z) + m_2*TensorProduct(tau_y, sigma_0) + m_3*TensorProduct(tau_0, sigma_x)\n",
    "M"
   ]
  },
  {
   "cell_type": "code",
   "execution_count": 56,
   "id": "1eba0c7a",
   "metadata": {
    "tags": []
   },
   "outputs": [
    {
     "data": {
      "text/latex": [
       "$\\displaystyle 1.0 \\lambda^{4} - 2.0 \\lambda^{2} m_{0}^{2} - 2.0 \\lambda^{2} m_{1}^{2} - 2.0 \\lambda^{2} m_{2}^{2} - 2.0 \\lambda^{2} m_{3}^{2} + 1.0 m_{0}^{4} + 2.0 m_{0}^{2} m_{1}^{2} - 2.0 m_{0}^{2} m_{2}^{2} + 2.0 m_{0}^{2} m_{3}^{2} + 1.0 m_{1}^{4} + 2.0 m_{1}^{2} m_{2}^{2} + 2.0 m_{1}^{2} m_{3}^{2} + 1.0 m_{2}^{4} - 2.0 m_{2}^{2} m_{3}^{2} + 1.0 m_{3}^{4}$"
      ],
      "text/plain": [
       "1.0*lambda**4 - 2.0*lambda**2*m_0**2 - 2.0*lambda**2*m_1**2 - 2.0*lambda**2*m_2**2 - 2.0*lambda**2*m_3**2 + 1.0*m_0**4 + 2.0*m_0**2*m_1**2 - 2.0*m_0**2*m_2**2 + 2.0*m_0**2*m_3**2 + 1.0*m_1**4 + 2.0*m_1**2*m_2**2 + 2.0*m_1**2*m_3**2 + 1.0*m_2**4 - 2.0*m_2**2*m_3**2 + 1.0*m_3**4"
      ]
     },
     "execution_count": 56,
     "metadata": {},
     "output_type": "execute_result"
    }
   ],
   "source": [
    "determinant = (M-Lambda*sp.eye(4)).det()\n",
    "determinant"
   ]
  },
  {
   "cell_type": "code",
   "execution_count": 57,
   "id": "40d96d59",
   "metadata": {
    "tags": []
   },
   "outputs": [
    {
     "data": {
      "text/latex": [
       "$\\displaystyle - 1.4142135623731 \\sqrt{0.5 m_{0}^{2} + 0.5 m_{1}^{2} + 0.5 m_{2}^{2} - m_{2} \\left(m_{0}^{2} + m_{3}^{2}\\right)^{0.5} + 0.5 m_{3}^{2}}$"
      ],
      "text/plain": [
       "-1.4142135623731*sqrt(0.5*m_0**2 + 0.5*m_1**2 + 0.5*m_2**2 - m_2*(m_0**2 + m_3**2)**0.5 + 0.5*m_3**2)"
      ]
     },
     "metadata": {},
     "output_type": "display_data"
    },
    {
     "data": {
      "text/latex": [
       "$\\displaystyle 1.4142135623731 \\sqrt{0.5 m_{0}^{2} + 0.5 m_{1}^{2} + 0.5 m_{2}^{2} - m_{2} \\left(m_{0}^{2} + m_{3}^{2}\\right)^{0.5} + 0.5 m_{3}^{2}}$"
      ],
      "text/plain": [
       "1.4142135623731*sqrt(0.5*m_0**2 + 0.5*m_1**2 + 0.5*m_2**2 - m_2*(m_0**2 + m_3**2)**0.5 + 0.5*m_3**2)"
      ]
     },
     "metadata": {},
     "output_type": "display_data"
    },
    {
     "data": {
      "text/latex": [
       "$\\displaystyle - 1.4142135623731 \\sqrt{0.5 m_{0}^{2} + 0.5 m_{1}^{2} + 0.5 m_{2}^{2} + m_{2} \\left(m_{0}^{2} + m_{3}^{2}\\right)^{0.5} + 0.5 m_{3}^{2}}$"
      ],
      "text/plain": [
       "-1.4142135623731*sqrt(0.5*m_0**2 + 0.5*m_1**2 + 0.5*m_2**2 + m_2*(m_0**2 + m_3**2)**0.5 + 0.5*m_3**2)"
      ]
     },
     "metadata": {},
     "output_type": "display_data"
    },
    {
     "data": {
      "text/latex": [
       "$\\displaystyle 1.4142135623731 \\sqrt{0.5 m_{0}^{2} + 0.5 m_{1}^{2} + 0.5 m_{2}^{2} + m_{2} \\left(m_{0}^{2} + m_{3}^{2}\\right)^{0.5} + 0.5 m_{3}^{2}}$"
      ],
      "text/plain": [
       "1.4142135623731*sqrt(0.5*m_0**2 + 0.5*m_1**2 + 0.5*m_2**2 + m_2*(m_0**2 + m_3**2)**0.5 + 0.5*m_3**2)"
      ]
     },
     "metadata": {},
     "output_type": "display_data"
    }
   ],
   "source": [
    "eigenvalues = sp.solve(determinant, Lambda)\n",
    "display(eigenvalues[0])\n",
    "display(eigenvalues[1])\n",
    "display(eigenvalues[2])\n",
    "display(eigenvalues[3])"
   ]
  },
  {
   "cell_type": "code",
   "execution_count": 59,
   "id": "17b1424e",
   "metadata": {},
   "outputs": [
    {
     "data": {
      "text/latex": [
       "$\\displaystyle \\sqrt{m_{0}^{2} + \\left(m_{1}^{2} + i m_{2}\\right)^{2}}$"
      ],
      "text/plain": [
       "sqrt(m_0**2 + (m_1**2 + I*m_2)**2)"
      ]
     },
     "execution_count": 59,
     "metadata": {},
     "output_type": "execute_result"
    }
   ],
   "source": [
    "m_complex = sp.sqrt(m_0**2+(m_1**2+sp.I*m_2)**2)\n",
    "m_complex"
   ]
  },
  {
   "cell_type": "code",
   "execution_count": 60,
   "id": "4d419c54",
   "metadata": {},
   "outputs": [
    {
     "data": {
      "text/latex": [
       "$\\displaystyle \\sqrt[4]{4 m_{1}^{4} m_{2}^{2} + \\left(m_{0}^{2} + m_{1}^{4} - m_{2}^{2}\\right)^{2}} \\cos{\\left(\\frac{\\operatorname{atan}_{2}{\\left(2 m_{1}^{2} m_{2},m_{0}^{2} + m_{1}^{4} - m_{2}^{2} \\right)}}{2} \\right)}$"
      ],
      "text/plain": [
       "(4*m_1**4*m_2**2 + (m_0**2 + m_1**4 - m_2**2)**2)**(1/4)*cos(atan2(2*m_1**2*m_2, m_0**2 + m_1**4 - m_2**2)/2)"
      ]
     },
     "execution_count": 60,
     "metadata": {},
     "output_type": "execute_result"
    }
   ],
   "source": [
    "sp.re(m_complex)"
   ]
  },
  {
   "cell_type": "code",
   "execution_count": 61,
   "id": "85479dee",
   "metadata": {},
   "outputs": [
    {
     "data": {
      "text/latex": [
       "$\\displaystyle \\sqrt[4]{4 m_{1}^{4} m_{2}^{2} + \\left(m_{0}^{2} + m_{1}^{4} - m_{2}^{2}\\right)^{2}} \\sin{\\left(\\frac{\\operatorname{atan}_{2}{\\left(2 m_{1}^{2} m_{2},m_{0}^{2} + m_{1}^{4} - m_{2}^{2} \\right)}}{2} \\right)}$"
      ],
      "text/plain": [
       "(4*m_1**4*m_2**2 + (m_0**2 + m_1**4 - m_2**2)**2)**(1/4)*sin(atan2(2*m_1**2*m_2, m_0**2 + m_1**4 - m_2**2)/2)"
      ]
     },
     "execution_count": 61,
     "metadata": {},
     "output_type": "execute_result"
    }
   ],
   "source": [
    "sp.im(m_complex)"
   ]
  },
  {
   "cell_type": "code",
   "execution_count": 64,
   "id": "a0bf9c29",
   "metadata": {},
   "outputs": [],
   "source": [
    "y = sp.Symbol(\"y\")\n",
    "m_0_y = m_0 * sp.tanh(y)\n",
    "m_1_y = m_1 * 2 * sp.tanh(y) * sp.sqrt(1-sp.tanh(y))"
   ]
  },
  {
   "cell_type": "code",
   "execution_count": 67,
   "id": "a23404b7",
   "metadata": {},
   "outputs": [
    {
     "data": {
      "text/latex": [
       "$\\displaystyle \\int \\sqrt{m_{0}^{2} \\tanh^{2}{\\left(y \\right)} + \\left(4 m_{1}^{2} \\cdot \\left(1 - \\tanh{\\left(y \\right)}\\right) \\tanh^{2}{\\left(y \\right)} + i m_{2}\\right)^{2}}\\, dy$"
      ],
      "text/plain": [
       "Integral(sqrt(m_0**2*tanh(y)**2 + (4*m_1**2*(1 - tanh(y))*tanh(y)**2 + I*m_2)**2), y)"
      ]
     },
     "execution_count": 67,
     "metadata": {},
     "output_type": "execute_result"
    }
   ],
   "source": []
  },
  {
   "cell_type": "code",
   "execution_count": null,
   "id": "50afda6f",
   "metadata": {},
   "outputs": [],
   "source": []
  }
 ],
 "metadata": {
  "kernelspec": {
   "display_name": "Python 3 (Spyder)",
   "language": "python3",
   "name": "python3"
  },
  "language_info": {
   "codemirror_mode": {
    "name": "ipython",
    "version": 3
   },
   "file_extension": ".py",
   "mimetype": "text/x-python",
   "name": "python",
   "nbconvert_exporter": "python",
   "pygments_lexer": "ipython3",
   "version": "3.11.7"
  }
 },
 "nbformat": 4,
 "nbformat_minor": 5
}
